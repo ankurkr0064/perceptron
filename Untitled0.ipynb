{
  "nbformat": 4,
  "nbformat_minor": 0,
  "metadata": {
    "colab": {
      "provenance": [],
      "authorship_tag": "ABX9TyM+LDTlnMzVs+sEljgFQ0fQ",
      "include_colab_link": true
    },
    "kernelspec": {
      "name": "python3",
      "display_name": "Python 3"
    },
    "language_info": {
      "name": "python"
    }
  },
  "cells": [
    {
      "cell_type": "markdown",
      "metadata": {
        "id": "view-in-github",
        "colab_type": "text"
      },
      "source": [
        "<a href=\"https://colab.research.google.com/github/ankurkr0064/perceptron/blob/main/Untitled0.ipynb\" target=\"_parent\"><img src=\"https://colab.research.google.com/assets/colab-badge.svg\" alt=\"Open In Colab\"/></a>"
      ]
    },
    {
      "cell_type": "code",
      "execution_count": 2,
      "metadata": {
        "colab": {
          "base_uri": "https://localhost:8080/"
        },
        "id": "JPd5cz3Q8xfx",
        "outputId": "b04b26b5-f5ab-4150-ed5d-2a3d92252214"
      },
      "outputs": [
        {
          "output_type": "stream",
          "name": "stdout",
          "text": [
            "Inputs: 0, 1\n",
            "Half Adder - Sum: 1, Carry: 0\n",
            "Binary Comparator (Equal): 0\n",
            "XNOR Output: 0\n",
            "------------------------------\n",
            "Inputs: 1, 1\n",
            "Half Adder - Sum: 0, Carry: 1\n",
            "Binary Comparator (Equal): 1\n",
            "XNOR Output: 1\n",
            "------------------------------\n",
            "Inputs: 0, 0\n",
            "Half Adder - Sum: 0, Carry: 0\n",
            "Binary Comparator (Equal): 1\n",
            "XNOR Output: 1\n",
            "------------------------------\n",
            "Inputs: 1, 0\n",
            "Half Adder - Sum: 1, Carry: 0\n",
            "Binary Comparator (Equal): 0\n",
            "XNOR Output: 0\n",
            "------------------------------\n"
          ]
        }
      ],
      "source": [
        "import numpy as np\n",
        "\n",
        "# Utility function for unit step\n",
        "def unitStep(v):\n",
        "    return 1 if v >= 0 else 0\n",
        "\n",
        "# Perceptron model\n",
        "def perceptronModel(x, w, b):\n",
        "    v = np.dot(w, x) + b\n",
        "    return unitStep(v)\n",
        "\n",
        "# Logic gates\n",
        "def NOT_logicFunction(x):\n",
        "    return perceptronModel(x, -1, 0.5)\n",
        "\n",
        "def AND_logicFunction(x):\n",
        "    return perceptronModel(x, np.array([1, 1]), -1.5)\n",
        "\n",
        "def OR_logicFunction(x):\n",
        "    return perceptronModel(x, np.array([1, 1]), -0.5)\n",
        "\n",
        "def XOR_logicFunction(x):\n",
        "    y1 = AND_logicFunction(x)\n",
        "    y2 = OR_logicFunction(x)\n",
        "    y3 = NOT_logicFunction(y1)\n",
        "    final_x = np.array([y2, y3])\n",
        "    return AND_logicFunction(final_x)\n",
        "\n",
        "def XNOR_logicFunction(x):\n",
        "    return NOT_logicFunction(XOR_logicFunction(x))\n",
        "\n",
        "# Half adder function\n",
        "def halfAdder(x):\n",
        "    sum_output = XOR_logicFunction(x)\n",
        "    carry_output = AND_logicFunction(x)\n",
        "    return sum_output, carry_output\n",
        "\n",
        "# Binary comparator (returns 1 if both inputs are equal)\n",
        "def binaryComparator(x):\n",
        "    return XNOR_logicFunction(x)\n",
        "\n",
        "# Combined function\n",
        "def combinedLogic(x):\n",
        "    sum_output, carry_output = halfAdder(x)\n",
        "    comparator_output = binaryComparator(x)\n",
        "    xnor_output = XNOR_logicFunction(x)\n",
        "\n",
        "    # Print outputs\n",
        "    print(f\"Inputs: {x[0]}, {x[1]}\")\n",
        "    print(f\"Half Adder - Sum: {sum_output}, Carry: {carry_output}\")\n",
        "    print(f\"Binary Comparator (Equal): {comparator_output}\")\n",
        "    print(f\"XNOR Output: {xnor_output}\")\n",
        "    print(\"-\" * 30)\n",
        "\n",
        "# Test cases\n",
        "test_cases = [\n",
        "    np.array([0, 1]),\n",
        "    np.array([1, 1]),\n",
        "    np.array([0, 0]),\n",
        "    np.array([1, 0])\n",
        "]\n",
        "\n",
        "# Run the combined logic for all test cases\n",
        "for test in test_cases:\n",
        "    combinedLogic(test)"
      ]
    }
  ]
}